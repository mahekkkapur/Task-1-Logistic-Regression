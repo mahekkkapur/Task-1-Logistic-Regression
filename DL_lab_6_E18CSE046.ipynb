{
 "cells": [
  {
   "cell_type": "code",
   "execution_count": 1,
   "metadata": {
    "colab": {},
    "colab_type": "code",
    "id": "EVfVW3kT3JRq"
   },
   "outputs": [],
   "source": [
    "import warnings\n",
    "warnings.filterwarnings('ignore')\n",
    "\n",
    "import numpy as np\n",
    "import matplotlib.pyplot as plt\n",
    "import keras\n",
    "from keras.datasets import mnist\n",
    "from keras.models import Sequential,model_from_json\n",
    "from keras.layers import Dense\n",
    "from keras.layers import Conv2D\n",
    "from keras.layers import MaxPool2D\n",
    "from keras.layers import Flatten\n",
    "from keras.optimizers import RMSprop\n",
    "import pylab as plt\n",
    "from keras.utils import np_utils  "
   ]
  },
  {
   "cell_type": "code",
   "execution_count": 2,
   "metadata": {
    "colab": {},
    "colab_type": "code",
    "id": "U9TWDw8A4NTw"
   },
   "outputs": [],
   "source": [
    "(X_train,y_train) , (X_test,y_test) = mnist.load_data()"
   ]
  },
  {
   "cell_type": "code",
   "execution_count": 3,
   "metadata": {
    "colab": {
     "base_uri": "https://localhost:8080/",
     "height": 84
    },
    "colab_type": "code",
    "id": "vUO-2xgi4U4o",
    "outputId": "2db495c5-22f3-4bdf-c358-13be005a9f60"
   },
   "outputs": [
    {
     "name": "stdout",
     "output_type": "stream",
     "text": [
      "(60000, 28, 28)\n",
      "(60000,)\n",
      "(10000, 28, 28)\n",
      "(10000,)\n"
     ]
    }
   ],
   "source": [
    "print(X_train.shape)\n",
    "print(y_train.shape)\n",
    "print(X_test.shape)\n",
    "print(y_test.shape)"
   ]
  },
  {
   "cell_type": "code",
   "execution_count": 4,
   "metadata": {
    "colab": {
     "base_uri": "https://localhost:8080/",
     "height": 50
    },
    "colab_type": "code",
    "id": "prGpVKKME6Up",
    "outputId": "a1da6749-26a5-4bda-ed0e-db383ca28f5a"
   },
   "outputs": [
    {
     "name": "stdout",
     "output_type": "stream",
     "text": [
      "Training matrix shape (60000, 28, 28, 1)\n",
      "Testing matrix shape (10000, 28, 28, 1)\n"
     ]
    }
   ],
   "source": [
    "X_train = X_train.reshape(60000, 28,28,1)\n",
    "X_test = X_test.reshape(10000, 28,28,1)   \n",
    "\n",
    "X_train = X_train.astype('float32')   \n",
    "X_test = X_test.astype('float32')\n",
    "\n",
    "X_train /= 255                       \n",
    "X_test /= 255\n",
    "\n",
    "print(\"Training matrix shape\", X_train.shape)\n",
    "print(\"Testing matrix shape\", X_test.shape)"
   ]
  },
  {
   "cell_type": "code",
   "execution_count": 5,
   "metadata": {
    "colab": {},
    "colab_type": "code",
    "id": "ZyBSb4sd4bhG"
   },
   "outputs": [],
   "source": [
    "nb_classes = 10 # number of unique digits\n",
    "\n",
    "Y_train = np_utils.to_categorical(y_train, nb_classes)\n",
    "Y_test = np_utils.to_categorical(y_test, nb_classes)"
   ]
  },
  {
   "cell_type": "code",
   "execution_count": 6,
   "metadata": {
    "colab": {
     "base_uri": "https://localhost:8080/",
     "height": 50
    },
    "colab_type": "code",
    "id": "CeKBzKJeOMfA",
    "outputId": "19bba1c0-0f96-44c3-8eb8-650419655389"
   },
   "outputs": [
    {
     "name": "stdout",
     "output_type": "stream",
     "text": [
      "(60000, 10)\n",
      "(10000, 10)\n"
     ]
    }
   ],
   "source": [
    "print(Y_train.shape)\n",
    "print(Y_test.shape)"
   ]
  },
  {
   "cell_type": "code",
   "execution_count": 7,
   "metadata": {
    "colab": {
     "base_uri": "https://localhost:8080/",
     "height": 134
    },
    "colab_type": "code",
    "id": "-d3qVdZvOYtB",
    "outputId": "4ee5496e-f64c-430a-91f0-9ee7f11c2e16"
   },
   "outputs": [
    {
     "data": {
      "text/plain": [
       "array([[0., 0., 0., ..., 1., 0., 0.],\n",
       "       [0., 0., 1., ..., 0., 0., 0.],\n",
       "       [0., 1., 0., ..., 0., 0., 0.],\n",
       "       ...,\n",
       "       [0., 0., 0., ..., 0., 0., 0.],\n",
       "       [0., 0., 0., ..., 0., 0., 0.],\n",
       "       [0., 0., 0., ..., 0., 0., 0.]], dtype=float32)"
      ]
     },
     "execution_count": 7,
     "metadata": {
      "tags": []
     },
     "output_type": "execute_result"
    }
   ],
   "source": [
    "Y_test"
   ]
  },
  {
   "cell_type": "markdown",
   "metadata": {
    "colab_type": "text",
    "id": "3kHkvOB94mE0"
   },
   "source": [
    "Base Model"
   ]
  },
  {
   "cell_type": "code",
   "execution_count": 8,
   "metadata": {
    "colab": {
     "base_uri": "https://localhost:8080/",
     "height": 386
    },
    "colab_type": "code",
    "id": "t-0g0XoPEz0J",
    "outputId": "89fb4209-2567-4a62-ed48-80d1c2497d39"
   },
   "outputs": [
    {
     "name": "stdout",
     "output_type": "stream",
     "text": [
      "Model: \"sequential\"\n",
      "_________________________________________________________________\n",
      "Layer (type)                 Output Shape              Param #   \n",
      "=================================================================\n",
      "conv2d (Conv2D)              (None, 28, 28, 24)        624       \n",
      "_________________________________________________________________\n",
      "max_pooling2d (MaxPooling2D) (None, 14, 14, 24)        0         \n",
      "_________________________________________________________________\n",
      "conv2d_1 (Conv2D)            (None, 14, 14, 48)        28848     \n",
      "_________________________________________________________________\n",
      "max_pooling2d_1 (MaxPooling2 (None, 7, 7, 48)          0         \n",
      "_________________________________________________________________\n",
      "flatten (Flatten)            (None, 2352)              0         \n",
      "_________________________________________________________________\n",
      "dense (Dense)                (None, 256)               602368    \n",
      "_________________________________________________________________\n",
      "dense_1 (Dense)              (None, 10)                2570      \n",
      "=================================================================\n",
      "Total params: 634,410\n",
      "Trainable params: 634,410\n",
      "Non-trainable params: 0\n",
      "_________________________________________________________________\n"
     ]
    }
   ],
   "source": [
    "model = Sequential()\n",
    "model.add(Conv2D(24,kernel_size=5,padding='same',strides = (1,1),activation='relu',input_shape=(28,28,1)))\n",
    "model.add(MaxPool2D())\n",
    "model.add(Conv2D(48,kernel_size=5,padding='same',strides = (1,1),activation='relu'))\n",
    "model.add(MaxPool2D())\n",
    "model.add(Flatten())\n",
    "model.add(Dense(256, activation='relu'))\n",
    "model.add(Dense(10, activation='softmax'))\n",
    "model.compile(optimizer=\"adam\", loss=\"categorical_crossentropy\")\n",
    "model.summary()"
   ]
  },
  {
   "cell_type": "code",
   "execution_count": 9,
   "metadata": {
    "colab": {
     "base_uri": "https://localhost:8080/",
     "height": 222
    },
    "colab_type": "code",
    "id": "HxCiaUQsGcd0",
    "outputId": "9906a931-68c7-4a1a-91ab-5e8ce46177d0"
   },
   "outputs": [
    {
     "name": "stdout",
     "output_type": "stream",
     "text": [
      "Epoch 1/5\n",
      "469/469 [==============================] - 2s 5ms/step - loss: 0.1740 - accuracy: 0.9465\n",
      "Epoch 2/5\n",
      "469/469 [==============================] - 2s 5ms/step - loss: 0.0471 - accuracy: 0.9854\n",
      "Epoch 3/5\n",
      "469/469 [==============================] - 2s 5ms/step - loss: 0.0303 - accuracy: 0.9903\n",
      "Epoch 4/5\n",
      "469/469 [==============================] - 2s 5ms/step - loss: 0.0224 - accuracy: 0.9929\n",
      "Epoch 5/5\n",
      "469/469 [==============================] - 2s 5ms/step - loss: 0.0176 - accuracy: 0.9944\n"
     ]
    },
    {
     "data": {
      "text/plain": [
       "<tensorflow.python.keras.callbacks.History at 0x7fc1707cec88>"
      ]
     },
     "execution_count": 9,
     "metadata": {
      "tags": []
     },
     "output_type": "execute_result"
    }
   ],
   "source": [
    "model.compile(loss='categorical_crossentropy', optimizer='adam', metrics=['accuracy'])\n",
    "model.fit(X_train, Y_train,batch_size=128, epochs=5,verbose=1)"
   ]
  },
  {
   "cell_type": "code",
   "execution_count": 10,
   "metadata": {
    "colab": {
     "base_uri": "https://localhost:8080/",
     "height": 87
    },
    "colab_type": "code",
    "id": "QxdyVB5vGwl2",
    "outputId": "185ebc70-69da-41ab-ca28-8722287adc1d"
   },
   "outputs": [
    {
     "name": "stdout",
     "output_type": "stream",
     "text": [
      "313/313 [==============================] - 1s 2ms/step - loss: 0.0261 - accuracy: 0.9905\n",
      "Test loss: 0.02605663798749447\n",
      "Test accuracy: 0.9904999732971191\n"
     ]
    }
   ],
   "source": [
    "score = model.evaluate(X_test, Y_test)\n",
    "print('Test loss:', score[0])\n",
    "print('Test accuracy:', score[1])"
   ]
  },
  {
   "cell_type": "code",
   "execution_count": 11,
   "metadata": {
    "colab": {
     "base_uri": "https://localhost:8080/",
     "height": 349
    },
    "colab_type": "code",
    "id": "59Zm8bSlLWUN",
    "outputId": "a7024c5f-c20a-4ccf-ee21-5ab54a3791e6"
   },
   "outputs": [
    {
     "name": "stdout",
     "output_type": "stream",
     "text": [
      "Prediction\n",
      " [1.4285625e-05 3.2545668e-06 1.0898305e-04 1.4931994e-05 9.8452550e-01\n",
      " 1.1696267e-06 7.6423697e-07 8.2053011e-04 1.3537141e-02 9.7347342e-04]\n",
      "4\n"
     ]
    },
    {
     "data": {
      "text/plain": [
       "<matplotlib.image.AxesImage at 0x7fc178eedeb8>"
      ]
     },
     "execution_count": 11,
     "metadata": {
      "tags": []
     },
     "output_type": "execute_result"
    },
    {
     "data": {
      "image/png": "[encoded data removed]",
      "text/plain": [
       "<Figure size 432x288 with 1 Axes>"
      ]
     },
     "metadata": {
      "needs_background": "light",
      "tags": []
     },
     "output_type": "display_data"
    }
   ],
   "source": [
    "prediction = model.predict(X_test[420:421])\n",
    "prediction = prediction[0]\n",
    "print('Prediction\\n',prediction)\n",
    "print(np.argmax(prediction))\n",
    "plt.imshow(X_test[420:421].reshape(28,28))"
   ]
  },
  {
   "cell_type": "markdown",
   "metadata": {
    "colab_type": "text",
    "id": "IR3rJq6w4eeS"
   },
   "source": [
    "Number of filters: Run CNN with 1 convolution hidden layer (32 filters of 3*3), flatten\n",
    "layer and output layer, (with any activation function and any optimizer) for 5 epochs.\n",
    "Change number of filters as 4, 32, 128, 512, 2056. What is the training and testing\n",
    "accuracies? Print the number of parameters of the model and training time for each of\n",
    "these configurations."
   ]
  },
  {
   "cell_type": "markdown",
   "metadata": {
    "colab_type": "text",
    "id": "nUFi_BZ34tkr"
   },
   "source": [
    "32 filters of 4*4, flatten layer and output layer,"
   ]
  },
  {
   "cell_type": "code",
   "execution_count": 12,
   "metadata": {
    "colab": {},
    "colab_type": "code",
    "id": "Lf8WNkF_6jkx"
   },
   "outputs": [],
   "source": [
    "def define_model1():\n",
    "  model=Sequential()\n",
    "  model.add(Conv2D(32,(3,3),activation='relu',input_shape=(28,28,1)))\n",
    "  model.add(MaxPool2D((2,2)))\n",
    "  model.add(Flatten())\n",
    "\n",
    "  model.add(Dense(100,activation='relu'))\n",
    "  model.add(Dense(10,activation='softmax'))\n",
    "  model.compile(optimizer='adam',loss='categorical_crossentropy',metrics=['accuracy'])\n",
    "  return model "
   ]
  },
  {
   "cell_type": "code",
   "execution_count": 13,
   "metadata": {
    "colab": {
     "base_uri": "https://localhost:8080/",
     "height": 34
    },
    "colab_type": "code",
    "id": "asnywtuDO-RR",
    "outputId": "80aa402a-0124-4096-ade2-ae08ed17ee34"
   },
   "outputs": [
    {
     "name": "stdout",
     "output_type": "stream",
     "text": [
      "98.660\n"
     ]
    }
   ],
   "source": [
    "model=define_model1()\n",
    "history=model.fit(X_train,Y_train,epochs=10,batch_size=32,validation_data=(X_test,Y_test),verbose=0)\n",
    "_,acc=model.evaluate(X_test,Y_test,verbose=0)\n",
    "print('%.3f'%(acc*100.0))\n"
   ]
  },
  {
   "cell_type": "code",
   "execution_count": 14,
   "metadata": {
    "colab": {
     "base_uri": "https://localhost:8080/",
     "height": 1000
    },
    "colab_type": "code",
    "id": "ozkvcocjPo1m",
    "outputId": "dff08865-41a6-4143-e0a9-358ae775ebf2"
   },
   "outputs": [
    {
     "data": {
      "text/plain": [
       "[<tf.Variable 'conv2d_2/kernel:0' shape=(3, 3, 1, 32) dtype=float32, numpy=\n",
       " array([[[[ 4.18828614e-02,  1.03323646e-01,  3.63076152e-03,\n",
       "            2.12032691e-01, -6.27108395e-01,  1.42385885e-01,\n",
       "           -2.66067684e-02,  2.88600296e-01, -4.83424425e-01,\n",
       "           -2.22284034e-01, -2.61196941e-01,  4.37907845e-01,\n",
       "            1.98764861e-01, -7.39167705e-02, -1.24610677e-01,\n",
       "           -5.02076757e-04, -3.35771561e-01,  1.87398270e-01,\n",
       "           -4.67841059e-01, -5.95314018e-02,  2.76151508e-01,\n",
       "            2.81588197e-01, -2.64756620e-01,  1.39124408e-01,\n",
       "           -1.53618271e-03, -4.94350225e-01, -6.13952398e-01,\n",
       "            2.53444612e-01,  2.26327971e-01, -2.83882707e-01,\n",
       "           -2.72234261e-01,  7.49316439e-02]],\n",
       " \n",
       "         [[-1.59812838e-01, -6.34074956e-02,  2.71994174e-01,\n",
       "           -8.80369022e-02, -1.15005627e-01,  1.08844310e-01,\n",
       "            5.80347665e-02,  3.42005938e-01, -5.24664283e-01,\n",
       "           -6.26043556e-03,  5.47146574e-02,  2.13594791e-02,\n",
       "            1.07022651e-01, -5.88710725e-01,  3.28376114e-01,\n",
       "           -2.23229243e-03,  1.47058204e-01,  1.36189818e-01,\n",
       "           -1.27525972e-02,  1.55583575e-01, -4.38155606e-02,\n",
       "           -1.94075972e-01,  4.54884470e-02, -1.70681868e-02,\n",
       "            2.24521041e-01, -1.37470439e-01, -3.57337236e-01,\n",
       "            6.93753883e-02,  2.43615601e-02,  6.77949786e-02,\n",
       "           -4.16992307e-01,  3.59372348e-01]],\n",
       " \n",
       "         [[-6.73672482e-02, -3.42827290e-01,  4.66910392e-01,\n",
       "           -4.27084029e-01,  1.53056070e-01, -3.22709441e-01,\n",
       "            6.91642314e-02,  4.03178602e-01, -7.24550635e-02,\n",
       "            1.81415915e-01,  8.38945433e-02, -6.94496989e-01,\n",
       "           -9.93297063e-03, -5.10307431e-01, -7.05487505e-02,\n",
       "            1.74843967e-02,  1.59249082e-01,  1.81223452e-01,\n",
       "            1.98622733e-01,  3.66497934e-01, -2.43109211e-01,\n",
       "           -3.71475220e-01,  1.81777149e-01, -2.20561728e-01,\n",
       "           -2.67008513e-01,  1.86625689e-01, -6.10876441e-01,\n",
       "           -4.73899156e-01, -2.22260177e-01,  1.43348500e-01,\n",
       "           -2.02988416e-01, -3.20655525e-01]]],\n",
       " \n",
       " \n",
       "        [[[ 1.23054743e-01,  1.84564844e-01, -5.85660636e-01,\n",
       "            1.55150756e-01,  6.07080907e-02,  6.22047074e-02,\n",
       "           -3.06066275e-02, -1.35051936e-01, -4.23625708e-01,\n",
       "            1.55990526e-01,  2.52904326e-01,  4.02501017e-01,\n",
       "           -1.74992338e-01,  2.84563422e-01,  7.18369521e-03,\n",
       "           -1.34997983e-02, -8.75025243e-02, -6.75656050e-02,\n",
       "           -3.79897416e-01,  1.86295137e-01,  7.99640715e-02,\n",
       "            5.50928749e-02,  2.55108386e-01,  2.14247301e-01,\n",
       "           -5.22069484e-02, -5.26285887e-01, -4.60540771e-01,\n",
       "            2.26526275e-01,  3.35898362e-02, -1.42293096e-01,\n",
       "           -9.00145993e-02, -3.44924957e-01]],\n",
       " \n",
       "         [[ 6.03398643e-02,  4.11715120e-01, -6.14083350e-01,\n",
       "            2.76602119e-01,  4.30844963e-01,  6.36623129e-02,\n",
       "            7.13987723e-02,  2.44475484e-01,  2.22716048e-01,\n",
       "            3.22786681e-02,  2.16112584e-02, -5.07170379e-01,\n",
       "           -4.55167629e-02,  2.32194230e-01,  1.80001959e-01,\n",
       "            5.89660406e-02,  2.18741685e-01,  1.20630302e-02,\n",
       "            2.91036963e-01,  2.01707602e-01, -7.70368651e-02,\n",
       "            2.21052840e-01,  1.72789469e-01, -1.52698681e-01,\n",
       "            1.68810397e-01, -9.38030556e-02, -6.58065197e-04,\n",
       "            7.54477829e-02, -2.51821280e-01,  1.35691658e-01,\n",
       "            1.53431028e-01,  4.40790147e-01]],\n",
       " \n",
       "         [[-6.80419430e-02, -2.94691920e-01, -7.87224174e-01,\n",
       "           -5.99496663e-02,  1.43219650e-01, -1.99087821e-02,\n",
       "           -7.83466250e-02,  7.68616498e-02,  3.84907573e-01,\n",
       "           -3.92469727e-02,  7.44775981e-02, -9.71991271e-02,\n",
       "            4.77940813e-02, -4.58088249e-01, -4.18505877e-01,\n",
       "            3.75238173e-02,  4.16788124e-02,  2.00222641e-01,\n",
       "            1.63055882e-01, -2.80549347e-01, -1.17857181e-01,\n",
       "            4.78047878e-05, -1.16531163e-01, -1.91662937e-01,\n",
       "           -2.56745607e-01,  4.47013915e-01, -2.40816429e-01,\n",
       "           -3.84953111e-01, -1.86515138e-01, -7.36134201e-02,\n",
       "            2.94821084e-01, -1.02473609e-03]]],\n",
       " \n",
       " \n",
       "        [[[-2.02402830e-01, -4.63171273e-01,  3.86529148e-01,\n",
       "           -2.27127716e-01,  1.19079784e-01, -1.83060452e-01,\n",
       "            4.82970886e-02, -8.53640616e-01, -6.79891091e-03,\n",
       "            1.17449649e-01,  5.64963147e-02, -1.60278529e-01,\n",
       "            8.68595764e-02,  3.13058645e-01,  1.87818170e-01,\n",
       "           -1.12612769e-02,  2.41700500e-01, -4.81699049e-01,\n",
       "           -1.96788788e-01, -2.94681281e-01, -6.22380525e-02,\n",
       "           -1.08408168e-01,  2.30477259e-01,  6.76384941e-02,\n",
       "           -5.23404330e-02, -6.66746080e-01,  1.42954305e-01,\n",
       "            3.18892509e-01,  1.65345997e-01, -6.73054382e-02,\n",
       "            3.08948755e-01, -4.91757810e-01]],\n",
       " \n",
       "         [[ 2.03018188e-02,  1.86165243e-01,  3.88910681e-01,\n",
       "            1.30586460e-01,  8.11475515e-02,  1.18501291e-01,\n",
       "            2.69353343e-03, -5.06137311e-01,  1.81025833e-01,\n",
       "           -1.35711268e-01, -2.97778040e-01, -9.02021646e-01,\n",
       "           -3.40541266e-02,  2.88091183e-01, -7.75665119e-02,\n",
       "            4.95411009e-02,  1.23711556e-01, -3.33969384e-01,\n",
       "            2.22344279e-01, -4.12917703e-01,  1.51635394e-01,\n",
       "            2.53453590e-02, -4.24096704e-01,  2.05680162e-01,\n",
       "            2.34461427e-01, -4.47973721e-02,  5.49380481e-01,\n",
       "           -8.57472643e-02,  1.69236317e-01,  1.18066862e-01,\n",
       "            2.54110634e-01,  8.89339373e-02]],\n",
       " \n",
       "         [[ 1.02589972e-01,  2.32019931e-01, -2.86761560e-02,\n",
       "            1.78870499e-01, -5.07425845e-01,  1.83495283e-01,\n",
       "           -1.38114214e-01, -6.49963439e-01,  1.69239305e-02,\n",
       "           -6.01024777e-02, -2.92538881e-01,  5.40920615e-01,\n",
       "            1.58616811e-01, -2.45407540e-02,  6.47048429e-02,\n",
       "           -6.18948638e-02, -3.66508335e-01,  2.90692776e-01,\n",
       "            4.93294895e-02, -4.95710939e-01,  2.57284969e-01,\n",
       "            2.75692761e-01, -1.83240652e-01,  2.35167742e-01,\n",
       "           -3.80521081e-02,  3.01439434e-01,  2.32653931e-01,\n",
       "           -4.61633205e-01,  2.46133804e-02,  1.05125777e-01,\n",
       "           -1.39472028e-02,  1.45020440e-01]]]], dtype=float32)>,\n",
       " <tf.Variable 'conv2d_2/bias:0' shape=(32,) dtype=float32, numpy=\n",
       " array([-0.15452452, -0.21750621, -0.01434017, -0.30102092, -0.15565804,\n",
       "        -0.2528858 , -0.20978653, -0.01713724, -0.14183916, -0.24761271,\n",
       "        -0.12237666, -0.01767422, -0.25236398, -0.05068341, -0.23591477,\n",
       "        -0.17321083, -0.28315374, -0.3656965 , -0.17830855, -0.05298755,\n",
       "        -0.3161379 , -0.29029813, -0.19062531, -0.34948158, -0.23508465,\n",
       "        -0.08364362, -0.00337947, -0.15218663, -0.2709853 , -0.24171633,\n",
       "        -0.11951922, -0.21665265], dtype=float32)>,\n",
       " <tf.Variable 'dense_2/kernel:0' shape=(5408, 100) dtype=float32, numpy=\n",
       " array([[ 0.02237121,  0.03293708,  0.02444331, ...,  0.00469346,\n",
       "          0.00155368,  0.01544387],\n",
       "        [-0.02932226,  0.0338863 , -0.02706661, ...,  0.03269077,\n",
       "          0.01087568,  0.0003371 ],\n",
       "        [ 0.2279745 , -0.0395018 ,  0.10028574, ..., -0.01747225,\n",
       "          0.14154027, -0.12913942],\n",
       "        ...,\n",
       "        [-0.02288622,  0.03730786,  0.02306866, ..., -0.01660273,\n",
       "         -0.01035439,  0.02665873],\n",
       "        [-0.00467292, -0.00246035, -0.02082878, ...,  0.01281323,\n",
       "          0.04785481, -0.05607659],\n",
       "        [-0.01655636, -0.01189739,  0.0073189 , ...,  0.02176406,\n",
       "         -0.0350996 ,  0.04739741]], dtype=float32)>,\n",
       " <tf.Variable 'dense_2/bias:0' shape=(100,) dtype=float32, numpy=\n",
       " array([-0.16602495,  0.08028748,  0.05900191,  0.02141486,  0.10886358,\n",
       "        -0.00872268, -0.04922325, -0.09465389, -0.01439621, -0.0697334 ,\n",
       "        -0.13442785, -0.00685928,  0.07376251, -0.01433098,  0.01108878,\n",
       "         0.10179536, -0.02300425, -0.09292316,  0.03077254,  0.01478255,\n",
       "         0.12129936, -0.02014167, -0.17331867,  0.02778117,  0.08707347,\n",
       "        -0.01677238, -0.07476069,  0.02687257, -0.02503528, -0.00766418,\n",
       "         0.07735239,  0.03232165, -0.03953679,  0.05593514,  0.11372523,\n",
       "         0.03896992, -0.08827432, -0.01615519, -0.00741139, -0.02336907,\n",
       "         0.11747519, -0.03702033, -0.03547895, -0.01665742,  0.19480982,\n",
       "         0.01704019, -0.04478531,  0.04305057,  0.05230274,  0.08254556,\n",
       "        -0.06450011, -0.08344178,  0.10073346, -0.00956304,  0.06264926,\n",
       "         0.02259368, -0.00592138, -0.00600506,  0.129209  ,  0.0716804 ,\n",
       "         0.02361054, -0.0072109 ,  0.08153742, -0.09701569, -0.07655421,\n",
       "        -0.02506006, -0.05905909,  0.05128602, -0.04198583,  0.05163671,\n",
       "        -0.06945313, -0.03863059, -0.13044254, -0.10140037, -0.00703684,\n",
       "        -0.04626733,  0.10899635, -0.01848578, -0.09879195, -0.13208142,\n",
       "        -0.06030461, -0.06933413, -0.12923145,  0.00298281, -0.07060033,\n",
       "         0.10245977, -0.03119495, -0.12187678, -0.06317765,  0.10174463,\n",
       "         0.0197802 , -0.07970848, -0.0835298 ,  0.05718093, -0.02383045,\n",
       "        -0.11461999, -0.03367766, -0.00674627,  0.05209739, -0.00709213],\n",
       "       dtype=float32)>,\n",
       " <tf.Variable 'dense_3/kernel:0' shape=(100, 10) dtype=float32, numpy=\n",
       " array([[ 2.33994484e-01, -4.34863418e-01, -7.73618668e-02,\n",
       "         -7.23256320e-02, -3.82485569e-01, -2.79676795e-01,\n",
       "          2.60440111e-01, -1.14438169e-01,  2.36587316e-01,\n",
       "          9.96537134e-02],\n",
       "        [-5.30550301e-01,  4.34639663e-01, -2.11875275e-01,\n",
       "         -2.87038714e-01,  1.27013773e-01,  3.53521287e-01,\n",
       "         -2.25281894e-01,  3.35869431e-01, -4.01978105e-01,\n",
       "         -2.22845469e-02],\n",
       "        [ 2.25936100e-01,  3.17502230e-01,  3.13787580e-01,\n",
       "         -3.68190616e-01, -4.65385951e-02, -3.09587419e-01,\n",
       "         -3.39114249e-01, -1.30733490e-01,  2.79573235e-03,\n",
       "         -1.77087560e-01],\n",
       "        [-2.71047294e-01, -2.10618451e-01,  1.45730153e-01,\n",
       "          1.73502401e-01,  2.62564003e-01,  1.89404935e-01,\n",
       "          1.11039393e-01,  2.49419529e-02, -5.56360543e-01,\n",
       "          2.26094306e-01],\n",
       "        [-1.22508787e-01,  1.75972298e-01,  2.29419559e-01,\n",
       "          2.17172787e-01, -1.91884950e-01, -1.86270848e-01,\n",
       "          1.15126155e-01, -3.60549837e-01, -1.36327088e-01,\n",
       "         -3.25388640e-01],\n",
       "        [-2.01665923e-01, -1.34960040e-01,  9.05481651e-02,\n",
       "          1.66719705e-02,  2.04746604e-01, -1.02681480e-01,\n",
       "          1.54445723e-01, -7.66218901e-02, -1.44536734e-01,\n",
       "         -1.67355344e-01],\n",
       "        [ 3.37578624e-01, -1.06927091e-02,  3.01236421e-01,\n",
       "         -3.40594977e-01, -1.13088131e-01, -1.05766185e-01,\n",
       "         -1.50953054e-01, -3.41589861e-02,  2.50301450e-01,\n",
       "         -6.58181012e-01],\n",
       "        [-2.61930019e-01, -4.94608693e-02, -1.11247234e-01,\n",
       "          1.58505842e-01, -2.18373954e-01,  5.37221022e-02,\n",
       "         -4.80595052e-01,  2.88475072e-03,  4.78437655e-02,\n",
       "          1.05813302e-01],\n",
       "        [-2.61185728e-02, -1.08088516e-01, -4.90133077e-01,\n",
       "         -1.88766003e-01, -1.96871310e-01,  3.57737094e-01,\n",
       "          2.16376945e-01, -5.25655091e-01,  1.46564737e-01,\n",
       "          2.23004997e-01],\n",
       "        [ 7.01068714e-02, -4.67281267e-02,  2.49309808e-01,\n",
       "         -1.54987618e-01, -1.76794082e-01, -3.78618538e-01,\n",
       "          1.10495836e-01,  1.13487273e-01, -3.74726020e-03,\n",
       "          2.41794318e-01],\n",
       "        [-4.01761025e-01, -3.76755327e-01,  7.36141345e-03,\n",
       "          2.62876123e-01,  1.68827698e-01, -9.94679034e-02,\n",
       "         -6.59829676e-01,  1.27196401e-01,  1.14094473e-01,\n",
       "          2.42330700e-01],\n",
       "        [-6.40522595e-03,  6.50899559e-02,  2.25354627e-01,\n",
       "          7.66544491e-02,  2.61424899e-01, -4.59841639e-01,\n",
       "          4.91624475e-02,  1.77776501e-01,  1.07191443e-01,\n",
       "         -1.43462405e-01],\n",
       "        [-6.70453310e-02, -4.46297675e-01,  1.61079064e-01,\n",
       "         -4.39839989e-01,  3.81264478e-01, -6.83164075e-02,\n",
       "          1.00644000e-01,  1.41596407e-01, -6.47715449e-01,\n",
       "          1.26998141e-01],\n",
       "        [ 7.37224892e-02, -2.37373076e-02,  2.43408874e-01,\n",
       "         -7.72084668e-02, -1.38933808e-01, -2.23795623e-01,\n",
       "         -6.11052141e-02,  7.03065842e-02,  1.04640692e-01,\n",
       "         -2.92915612e-01],\n",
       "        [-1.60340488e-01,  7.55839795e-03,  7.93522596e-02,\n",
       "          2.46692255e-01,  2.25030661e-01, -4.03329968e-01,\n",
       "         -3.05329591e-01, -1.21970385e-01,  1.08113131e-02,\n",
       "         -3.15255165e-01],\n",
       "        [ 3.74409318e-01,  2.60353595e-01,  1.27084836e-01,\n",
       "         -4.38315272e-01,  1.61270692e-03, -7.26127982e-01,\n",
       "         -3.62495571e-01, -1.98314637e-01,  5.61046414e-02,\n",
       "          8.24478865e-02],\n",
       "        [ 1.38243198e-01, -4.68636632e-01, -5.15966058e-01,\n",
       "          2.17261881e-01, -1.03300333e-01,  2.00572550e-01,\n",
       "          2.86246813e-03,  3.93742800e-01,  1.16177432e-01,\n",
       "         -3.55400115e-01],\n",
       "        [-2.33916104e-01, -4.01696339e-02, -2.78652087e-02,\n",
       "         -4.28980082e-01,  3.16110790e-01, -3.83185536e-01,\n",
       "         -2.88356423e-01,  1.37172714e-01,  1.20065376e-01,\n",
       "          2.79884756e-01],\n",
       "        [ 3.84206682e-01, -4.39676613e-01, -4.87239435e-02,\n",
       "         -1.72313526e-01,  1.86649486e-02,  4.58752364e-02,\n",
       "         -1.66480273e-01,  3.64669651e-01, -1.95290387e-01,\n",
       "         -2.02816844e-01],\n",
       "        [ 2.63460964e-01, -2.93095499e-01, -1.17775507e-01,\n",
       "          1.78216398e-01,  9.96691659e-02,  5.06171919e-02,\n",
       "         -2.96421438e-01,  1.99112464e-02, -1.75085917e-01,\n",
       "          2.61180997e-01],\n",
       "        [-1.27790170e-03,  4.69945252e-01, -5.37072010e-02,\n",
       "         -7.37683177e-01,  2.98665822e-01, -2.86379933e-01,\n",
       "          2.21493766e-01,  3.86806220e-01, -6.64508820e-01,\n",
       "          1.37473002e-01],\n",
       "        [-2.67361104e-01, -1.71132922e-01,  2.44113266e-01,\n",
       "          3.95208932e-02, -4.38317150e-01,  1.55204952e-01,\n",
       "          2.34196141e-01,  2.00412348e-01,  1.41399369e-01,\n",
       "         -4.94300842e-01],\n",
       "        [-1.03980199e-01, -2.95636654e-01, -9.46906209e-03,\n",
       "          1.72542810e-01, -2.67669171e-01, -2.53157228e-01,\n",
       "         -4.36050631e-02, -2.79719055e-01,  1.59779847e-01,\n",
       "         -1.45631999e-01],\n",
       "        [ 7.72473440e-02,  9.99352336e-02,  6.44908696e-02,\n",
       "         -2.89358884e-01, -5.18080592e-01,  7.35534355e-02,\n",
       "         -6.09738111e-01,  4.53492925e-02, -7.30906352e-02,\n",
       "          1.38720855e-01],\n",
       "        [-1.40044078e-01, -2.87366182e-01,  5.20961106e-01,\n",
       "         -2.12940767e-01,  2.52743155e-01,  2.48123314e-02,\n",
       "         -9.70499888e-02,  6.48735240e-02, -4.68311340e-01,\n",
       "          3.15057337e-01],\n",
       "        [ 1.33576214e-01,  2.23036837e-02,  2.75450498e-02,\n",
       "         -1.54626742e-01, -1.87272951e-01, -1.77512333e-01,\n",
       "         -2.39176258e-01, -7.88024515e-02, -1.91270411e-01,\n",
       "         -2.09811449e-01],\n",
       "        [-5.25016077e-02, -3.89202178e-01,  2.07046986e-01,\n",
       "         -4.14476931e-01, -1.14906833e-01,  8.48674774e-02,\n",
       "         -1.23334058e-01,  1.74682632e-01,  2.32237518e-01,\n",
       "         -1.45366043e-01],\n",
       "        [ 1.57779023e-01,  9.97532830e-02,  1.25485346e-01,\n",
       "         -9.40074995e-02,  1.45714268e-01, -4.13575202e-01,\n",
       "          2.08249897e-01, -4.32413578e-01,  7.28833377e-02,\n",
       "         -1.23184077e-01],\n",
       "        [-6.33398056e-01, -1.90536007e-01, -5.78190327e-01,\n",
       "          1.10167295e-01,  5.24766147e-01, -2.94860214e-01,\n",
       "         -3.48418236e-01,  1.68727487e-01, -3.18890244e-01,\n",
       "          4.45026159e-01],\n",
       "        [ 7.24084005e-02,  1.25285879e-01,  5.46599701e-02,\n",
       "         -1.11671284e-01,  6.34215400e-02,  1.86287910e-01,\n",
       "          8.23399201e-02,  1.99584588e-01,  3.77978198e-02,\n",
       "         -1.82723463e-01],\n",
       "        [ 4.14019972e-02,  2.04579458e-01,  2.87010014e-01,\n",
       "          9.54972282e-02,  2.39041150e-01,  2.23324653e-02,\n",
       "         -3.46560687e-01,  4.15178418e-01, -3.96889716e-01,\n",
       "         -7.29804873e-01],\n",
       "        [-1.35321042e-03,  1.31825462e-01,  3.42008591e-01,\n",
       "         -1.43817097e-01,  3.48521501e-01,  4.68455255e-02,\n",
       "         -8.63181427e-02,  3.14587243e-02,  1.36859804e-01,\n",
       "         -6.24769449e-01],\n",
       "        [-1.36588633e-01,  5.90840504e-02,  2.30107471e-01,\n",
       "          2.04548970e-01, -5.23752034e-01, -6.81505561e-01,\n",
       "         -6.87963843e-01,  1.31760776e-01, -1.76048446e-02,\n",
       "          1.00857489e-01],\n",
       "        [ 2.80663192e-01,  3.68203610e-01, -4.14872885e-01,\n",
       "          7.95425102e-02,  2.24306330e-01, -3.23599309e-01,\n",
       "          1.60252973e-01,  2.07876652e-01, -4.63437825e-01,\n",
       "          5.51820919e-02],\n",
       "        [ 1.54852852e-01,  4.41124402e-02,  1.42038047e-01,\n",
       "          1.21755086e-01,  1.61720172e-01, -7.96302497e-01,\n",
       "         -1.16421804e-01,  1.39630958e-01, -1.81966051e-01,\n",
       "         -4.23228174e-01],\n",
       "        [ 1.26192331e-01, -4.04401630e-01,  6.54749456e-04,\n",
       "         -1.77342728e-01, -5.98165810e-01,  1.88309759e-01,\n",
       "          1.99055642e-01, -2.81149298e-01,  1.75737066e-03,\n",
       "         -6.84790462e-02],\n",
       "        [-6.68670982e-02, -2.85508156e-01,  2.00965136e-01,\n",
       "          5.15123531e-02, -2.58026779e-01, -1.67799994e-01,\n",
       "          6.55792579e-02,  2.92321861e-01, -1.15118720e-01,\n",
       "         -1.83773100e-01],\n",
       "        [-3.08559626e-01,  2.96368837e-01, -3.34110707e-01,\n",
       "         -1.93782762e-01,  1.64473221e-01,  2.42964238e-01,\n",
       "         -5.41653372e-02,  1.08364716e-01, -1.26600683e-01,\n",
       "         -1.33382097e-01],\n",
       "        [-7.02339336e-02, -1.32652745e-01,  1.23154625e-01,\n",
       "         -1.24992251e-01, -6.56221509e-02, -2.17838019e-01,\n",
       "         -4.65079471e-02, -2.34860912e-01, -1.64240897e-01,\n",
       "          6.63485192e-03],\n",
       "        [ 3.33884805e-01, -3.39882374e-01,  2.07091793e-01,\n",
       "         -1.97292417e-02,  4.48685624e-02, -1.46624774e-01,\n",
       "          1.39143392e-01, -9.59533527e-02,  1.75767243e-02,\n",
       "          5.57101481e-02],\n",
       "        [ 5.14259934e-01,  4.00093764e-01,  8.77339318e-02,\n",
       "         -1.86308652e-01, -4.93659496e-01, -9.90535542e-02,\n",
       "         -2.69202292e-01, -9.61625576e-02, -5.43638945e-01,\n",
       "         -8.99608433e-02],\n",
       "        [ 2.11319281e-03, -1.76111832e-01, -9.13504511e-02,\n",
       "         -4.03062329e-02, -7.76838064e-02, -1.12964936e-01,\n",
       "         -1.83921427e-01,  3.27220075e-02, -2.41829865e-02,\n",
       "         -2.18292162e-01],\n",
       "        [-5.48622524e-03,  2.04682305e-01, -1.20697469e-01,\n",
       "          2.25752994e-01, -7.40835965e-02, -3.35515916e-01,\n",
       "         -3.56118649e-01, -3.82263243e-01,  2.44940624e-01,\n",
       "          1.70847133e-01],\n",
       "        [-5.32549471e-02, -2.01138124e-01, -9.53409448e-02,\n",
       "         -4.86336788e-03, -2.22231746e-01,  1.28004238e-01,\n",
       "         -9.42039117e-02, -9.30224359e-03,  2.18287960e-01,\n",
       "         -1.23781808e-01],\n",
       "        [-4.19495739e-02,  4.30605799e-01, -5.85695028e-01,\n",
       "         -4.28840548e-01,  4.14334498e-02,  1.67612880e-01,\n",
       "          2.11929530e-01,  4.32534963e-02, -6.27038658e-01,\n",
       "         -3.60506713e-01],\n",
       "        [ 4.65410622e-03, -4.19903368e-01, -1.06807671e-01,\n",
       "          1.32941753e-01, -3.02576244e-01,  1.77714229e-01,\n",
       "          2.58577049e-01,  7.15013444e-02, -3.41270357e-01,\n",
       "          5.67422286e-02],\n",
       "        [-5.42078197e-01,  2.32860863e-01, -5.47457039e-01,\n",
       "          3.08246464e-01,  4.03430425e-02,  2.04006180e-01,\n",
       "         -3.24894845e-01, -3.92550558e-01,  1.78692460e-01,\n",
       "          1.76596805e-01],\n",
       "        [ 8.99089128e-02,  1.10388309e-01,  2.80370176e-01,\n",
       "         -3.88184428e-01, -3.50893736e-01,  1.68597937e-01,\n",
       "         -2.31607594e-02, -4.83989924e-01, -2.50899326e-03,\n",
       "          7.24221468e-02],\n",
       "        [ 2.34452531e-01,  6.17301129e-02, -2.37956211e-01,\n",
       "          1.65419713e-01, -5.73090613e-01, -2.60724664e-01,\n",
       "          2.33489111e-01,  3.21139485e-01, -3.48160416e-01,\n",
       "          9.48303118e-02],\n",
       "        [ 2.13404626e-01,  5.16729295e-01,  3.30725223e-01,\n",
       "         -6.65686548e-01, -2.42370456e-01, -3.82890463e-01,\n",
       "         -1.71881273e-01, -7.82309398e-02, -3.68625045e-01,\n",
       "         -1.80311743e-02],\n",
       "        [-4.40686464e-01, -2.99656212e-01,  1.67721391e-01,\n",
       "          2.71837980e-01, -5.05295634e-01,  1.25367492e-01,\n",
       "          1.85601175e-01,  2.08916888e-01,  1.73693016e-01,\n",
       "         -4.96859789e-01],\n",
       "        [ 2.97153771e-01, -2.35685289e-01, -2.89566338e-01,\n",
       "          9.92925018e-02,  9.35298763e-03, -2.88743615e-01,\n",
       "         -3.32200468e-01, -3.93564887e-02,  1.58811852e-01,\n",
       "         -1.22879006e-01],\n",
       "        [-3.75108689e-01,  4.16641146e-01, -7.99425989e-02,\n",
       "          3.47786844e-01, -1.07542694e-01, -6.06401116e-02,\n",
       "          2.56776903e-02,  3.73883486e-01, -5.83458841e-01,\n",
       "         -4.26337838e-01],\n",
       "        [-1.19390167e-01,  3.56489010e-02, -4.71780747e-01,\n",
       "          3.22123647e-01,  1.66772887e-01,  6.25453293e-02,\n",
       "         -5.83020508e-01,  1.31831989e-01, -4.87998724e-01,\n",
       "          3.03301245e-01],\n",
       "        [-3.74249429e-01,  2.17356667e-01,  1.21985376e-01,\n",
       "          2.01705068e-01, -8.95005241e-02, -3.99746627e-01,\n",
       "         -2.38657176e-01, -1.20006621e-01,  3.49488221e-02,\n",
       "         -2.78659582e-01],\n",
       "        [-4.80590582e-01,  2.37427041e-01, -3.95658165e-01,\n",
       "          7.47119710e-02,  2.53252864e-01,  2.84612209e-01,\n",
       "         -3.67942125e-01, -6.74792886e-01,  8.33900422e-02,\n",
       "          2.47835279e-01],\n",
       "        [-9.89416987e-02, -7.30838403e-02, -5.69660738e-02,\n",
       "         -1.76159307e-01,  2.03645200e-01,  7.86110088e-02,\n",
       "         -7.77207613e-02, -1.05486019e-02,  6.32114038e-02,\n",
       "          1.44654721e-01],\n",
       "        [ 4.42170464e-02,  1.84620604e-01,  2.86542233e-02,\n",
       "          1.74075097e-01, -7.92371035e-02, -2.22833067e-01,\n",
       "         -1.60574988e-01,  6.61149248e-02,  1.92174971e-01,\n",
       "         -1.86012417e-01],\n",
       "        [-3.20179313e-01,  2.37227127e-01,  4.90823835e-01,\n",
       "         -4.29791451e-01, -1.56726521e-02,  2.03506052e-01,\n",
       "         -2.17960000e-01,  5.85905194e-01, -5.60730398e-01,\n",
       "         -4.75550711e-01],\n",
       "        [-1.52065456e-01, -1.52279228e-01, -1.13949224e-01,\n",
       "          3.05560470e-01, -3.85347784e-01,  4.87202406e-02,\n",
       "          3.84625196e-01, -4.88834202e-01, -3.20698947e-01,\n",
       "         -1.04649258e+00],\n",
       "        [-5.28442621e-01,  1.63030818e-01,  2.74568945e-01,\n",
       "          2.02430144e-01, -4.81352121e-01,  1.45678118e-01,\n",
       "         -3.30144137e-01,  1.11323699e-01,  1.48898304e-01,\n",
       "         -1.37841880e-01],\n",
       "        [-1.35325957e-02, -1.21551305e-01,  3.73886898e-02,\n",
       "          1.24491982e-01, -1.59678563e-01, -3.99098964e-03,\n",
       "         -3.25984918e-02,  7.65067711e-02,  2.07304023e-02,\n",
       "         -2.36760855e-01],\n",
       "        [-4.27539140e-01,  3.86892796e-01, -3.02626073e-01,\n",
       "          3.32305253e-01,  2.13776916e-01, -2.37189069e-01,\n",
       "          2.70891219e-01,  2.93114811e-01, -2.80277431e-01,\n",
       "         -6.75746500e-02],\n",
       "        [ 2.54084636e-02,  7.14460993e-03, -1.34896308e-01,\n",
       "         -1.77007839e-01,  1.11558810e-01, -5.50052106e-01,\n",
       "          1.91074997e-01,  1.17929034e-01,  1.38993114e-01,\n",
       "          1.80249714e-04],\n",
       "        [ 6.87190518e-02, -3.00265759e-01,  3.29231709e-01,\n",
       "         -5.44200614e-02, -8.47979367e-01,  1.46621957e-01,\n",
       "         -4.18071836e-01,  3.37758750e-01, -9.07052532e-02,\n",
       "         -4.53477539e-02],\n",
       "        [ 6.93002790e-02, -1.96672663e-01, -7.35269580e-03,\n",
       "         -1.41418248e-01,  2.04098105e-01, -1.40549466e-02,\n",
       "          1.02070063e-01, -6.08465016e-01,  1.51091993e-01,\n",
       "         -1.40472367e-01],\n",
       "        [-4.67807464e-02, -1.69139162e-01, -8.84866938e-02,\n",
       "         -1.05527788e-02,  9.37797502e-02, -3.80456746e-01,\n",
       "         -5.77310026e-01, -9.90311205e-02, -5.78529499e-02,\n",
       "          1.23538412e-01],\n",
       "        [-7.50005066e-01,  2.17920512e-01, -4.74008799e-01,\n",
       "         -4.70262438e-01,  2.69705951e-01,  4.42896426e-01,\n",
       "         -2.17646807e-01,  1.54748589e-01,  1.42357588e-01,\n",
       "          9.01482254e-02],\n",
       "        [-3.62263769e-01, -4.16091196e-02, -1.25803456e-01,\n",
       "          4.51283418e-02,  6.97612017e-02,  1.72066405e-01,\n",
       "          1.86428592e-01, -3.64106625e-01,  4.88759913e-02,\n",
       "          5.34898080e-02],\n",
       "        [-5.01171410e-01,  9.83658656e-02,  2.17814997e-01,\n",
       "          1.84059635e-01, -5.75073123e-01,  2.89865732e-01,\n",
       "         -4.69219744e-01,  1.81918576e-01, -2.25326926e-01,\n",
       "          1.17109984e-01],\n",
       "        [ 2.28969976e-01, -4.40387726e-01, -3.95988107e-01,\n",
       "         -2.23953798e-01, -4.09432709e-01,  2.07631364e-01,\n",
       "         -1.10358715e-01,  2.02722684e-01,  2.81193078e-01,\n",
       "         -1.77700177e-01],\n",
       "        [ 6.49739057e-02, -4.63678569e-01, -3.46203856e-02,\n",
       "          1.15159698e-01, -1.80475369e-01,  1.80426389e-01,\n",
       "         -3.99315119e-01,  1.03565365e-01,  1.25890160e-02,\n",
       "          1.79118678e-01],\n",
       "        [-3.02596450e-01, -8.05036500e-02, -2.78294921e-01,\n",
       "         -6.91741854e-02, -1.70847818e-01,  7.01855794e-02,\n",
       "          1.53178215e-01,  1.88466564e-01,  2.31791556e-01,\n",
       "          6.13323003e-02],\n",
       "        [-1.80106878e-01, -2.64433593e-01, -2.08038777e-01,\n",
       "          1.77316815e-01,  2.38645282e-02,  2.25880370e-01,\n",
       "          1.07615866e-01, -3.65605623e-01,  1.83242738e-01,\n",
       "         -1.29500836e-01],\n",
       "        [-1.06115706e-01,  1.73853040e-01,  9.64953825e-02,\n",
       "         -1.51697874e-01,  8.47496907e-04,  1.69947386e-01,\n",
       "          1.55537799e-01,  2.12060779e-01, -4.36445028e-02,\n",
       "         -1.85477495e-01],\n",
       "        [ 3.34190667e-01,  1.26827005e-02, -4.33877647e-01,\n",
       "         -2.87253737e-01, -1.97309121e-01,  1.69966608e-01,\n",
       "          4.09706272e-02, -1.83343634e-01,  9.35879350e-02,\n",
       "          6.00586385e-02],\n",
       "        [ 2.32845351e-01,  2.70353168e-01, -5.90247869e-01,\n",
       "         -1.49424732e-01, -3.39243144e-01,  3.09145153e-01,\n",
       "          2.91313052e-01,  2.89793044e-01, -4.13294956e-02,\n",
       "         -3.08953643e-01],\n",
       "        [ 1.09286413e-01, -4.86119464e-02,  1.65834293e-01,\n",
       "          1.90920591e-01, -1.62518948e-01,  8.57964382e-02,\n",
       "          1.76435895e-02,  1.12238966e-01,  2.03801319e-01,\n",
       "         -1.08785520e-03],\n",
       "        [-3.69037271e-01, -1.87724873e-01, -1.46890312e-01,\n",
       "          1.71529263e-01, -8.90068859e-02,  2.40865186e-01,\n",
       "         -2.95815527e-01,  2.40799665e-01,  1.73895419e-01,\n",
       "         -1.03714816e-01],\n",
       "        [-6.01293296e-02, -3.31971109e-01,  1.90770730e-01,\n",
       "         -2.34497979e-01, -1.49798747e-02, -4.42861393e-02,\n",
       "         -4.00629073e-01, -1.18464418e-01,  2.18488947e-01,\n",
       "          1.12401053e-01],\n",
       "        [-2.95971930e-01, -9.73848477e-02, -1.24578224e-02,\n",
       "         -5.48718035e-01,  2.36067072e-01,  1.97055951e-01,\n",
       "          2.76002824e-01, -6.02168322e-01,  2.13800192e-01,\n",
       "          1.62518919e-01],\n",
       "        [ 1.85479112e-02,  1.24242097e-01, -5.16241789e-01,\n",
       "          9.80376303e-02, -7.05069542e-01,  9.54860896e-02,\n",
       "          2.10350007e-01, -1.55200372e-02,  3.72294694e-01,\n",
       "          3.60896915e-01],\n",
       "        [-4.53297943e-01, -2.98698336e-01, -2.08422512e-01,\n",
       "          1.09526433e-01,  3.08336705e-01,  8.89423415e-02,\n",
       "         -4.72831517e-01,  7.21003413e-02,  2.08958104e-01,\n",
       "          2.41156772e-01],\n",
       "        [ 1.23673461e-01, -1.71292916e-01, -4.53618854e-01,\n",
       "         -4.92234111e-01,  1.89462006e-02,  3.63024533e-01,\n",
       "          3.59840989e-01, -2.18368307e-01, -3.77741694e-01,\n",
       "          2.77802080e-01],\n",
       "        [ 7.53828809e-02,  1.43122494e-01,  2.09827527e-01,\n",
       "         -2.15534210e-01,  6.45364299e-02,  3.97469372e-01,\n",
       "         -5.89642189e-02,  1.17550954e-01, -1.39143718e-02,\n",
       "         -1.54987365e-01],\n",
       "        [-3.02929610e-01,  1.96254417e-01,  5.28542027e-02,\n",
       "          2.05716148e-01,  2.25367039e-01,  2.71532461e-02,\n",
       "          2.05026269e-01, -2.93895096e-01, -2.62433738e-01,\n",
       "          1.95619166e-01],\n",
       "        [-2.55189538e-01, -1.83553889e-01,  3.26754689e-01,\n",
       "         -2.01178774e-01, -3.67408097e-01, -3.83443028e-01,\n",
       "         -4.16739523e-01,  3.06211114e-01,  5.31310141e-02,\n",
       "          1.64023012e-01],\n",
       "        [ 4.52622846e-02, -3.84025842e-01,  1.44875839e-01,\n",
       "          1.76885352e-01,  1.92890406e-01, -1.61060601e-01,\n",
       "         -2.48487100e-01, -2.98200399e-01,  5.15188389e-02,\n",
       "          5.26544228e-02],\n",
       "        [-1.25075385e-01, -8.58116746e-02, -1.12762555e-01,\n",
       "          1.89903125e-01, -6.14412189e-01,  9.75711271e-02,\n",
       "          2.05640003e-01, -4.86198664e-01, -7.44661596e-03,\n",
       "         -3.43580693e-01],\n",
       "        [-1.55307516e-01,  2.58090585e-01, -8.01717222e-01,\n",
       "         -5.23366272e-01, -7.79173970e-02,  4.09200996e-01,\n",
       "         -1.26492474e-02, -2.48470291e-01, -8.71638432e-02,\n",
       "          4.18492705e-01],\n",
       "        [ 1.67785570e-01,  2.47654602e-01, -1.07679600e-02,\n",
       "          3.29175502e-01, -4.27611381e-01, -8.57326575e-03,\n",
       "         -5.51459789e-01,  2.45978668e-01, -7.22763166e-02,\n",
       "          1.54403552e-01],\n",
       "        [-1.74242198e-01, -2.87715375e-01, -9.33772400e-02,\n",
       "         -5.33933997e-01,  1.69328451e-01,  3.16166967e-01,\n",
       "         -4.27875698e-01, -8.42969026e-03,  2.07317144e-01,\n",
       "          2.88808465e-01],\n",
       "        [ 1.21253124e-02, -2.99397614e-02, -2.27952376e-01,\n",
       "         -4.03982878e-01, -1.04066409e-01,  6.56772256e-02,\n",
       "         -2.79087305e-01,  2.56467789e-01,  3.36260140e-01,\n",
       "         -4.08105791e-01],\n",
       "        [ 2.20817253e-01, -3.04857716e-02, -2.69267112e-01,\n",
       "         -3.36291403e-01,  3.18397105e-01,  2.04928011e-01,\n",
       "          8.00723061e-02, -5.06130084e-02, -3.66614103e-01,\n",
       "          1.85434371e-01],\n",
       "        [-2.11353362e-01,  1.41908061e-02, -2.65323166e-02,\n",
       "          1.20371006e-01, -2.41448313e-01,  8.71673003e-02,\n",
       "         -8.58953670e-02, -1.26969025e-01,  1.77104503e-01,\n",
       "         -2.08561912e-01],\n",
       "        [-6.39618039e-02, -2.95104027e-01,  1.25876307e-01,\n",
       "         -1.71442837e-01, -9.04160962e-02, -5.20405948e-01,\n",
       "          4.30118293e-01,  1.96086079e-01,  3.87340844e-01,\n",
       "          9.76940915e-02],\n",
       "        [ 1.03629291e-01, -9.44867916e-03,  2.06165791e-01,\n",
       "         -1.01938352e-01,  1.07437462e-01,  1.56629622e-01,\n",
       "          2.71468788e-01, -4.64266628e-01,  1.57602280e-01,\n",
       "          1.05794534e-01],\n",
       "        [-1.29929587e-01,  1.80080488e-01, -2.46556327e-02,\n",
       "          8.88934359e-02, -1.69204846e-01, -1.31433770e-01,\n",
       "         -1.89325795e-01, -1.17921390e-01, -1.30804375e-01,\n",
       "         -2.11914867e-01],\n",
       "        [ 8.99805501e-02,  1.45549729e-01, -2.69757986e-01,\n",
       "         -4.80706394e-01,  2.34804094e-01,  5.62371016e-02,\n",
       "          4.05406952e-01, -5.73389173e-01,  1.82775840e-01,\n",
       "         -2.97015607e-01],\n",
       "        [ 2.35257030e-01, -3.63191396e-01,  4.30385321e-02,\n",
       "          1.55755788e-01, -3.62565428e-01,  1.22249641e-01,\n",
       "         -2.11377844e-01, -4.62867051e-01, -2.23156903e-02,\n",
       "         -1.83957592e-01]], dtype=float32)>,\n",
       " <tf.Variable 'dense_3/bias:0' shape=(10,) dtype=float32, numpy=\n",
       " array([ 0.07216881,  0.11356928,  0.07332274,  0.00452141,  0.0420054 ,\n",
       "        -0.00978903, -0.04453824, -0.02725211, -0.10254282, -0.05478122],\n",
       "       dtype=float32)>]"
      ]
     },
     "execution_count": 14,
     "metadata": {
      "tags": []
     },
     "output_type": "execute_result"
    }
   ],
   "source": [
    "model.weights"
   ]
  },
  {
   "cell_type": "code",
   "execution_count": 15,
   "metadata": {
    "colab": {
     "base_uri": "https://localhost:8080/",
     "height": 319
    },
    "colab_type": "code",
    "id": "o-v4Gq2BPzYm",
    "outputId": "330e5f1a-8212-4ec8-8eb3-8099e8236d3f"
   },
   "outputs": [
    {
     "name": "stdout",
     "output_type": "stream",
     "text": [
      "Model: \"sequential_1\"\n",
      "_________________________________________________________________\n",
      "Layer (type)                 Output Shape              Param #   \n",
      "=================================================================\n",
      "conv2d_2 (Conv2D)            (None, 26, 26, 32)        320       \n",
      "_________________________________________________________________\n",
      "max_pooling2d_2 (MaxPooling2 (None, 13, 13, 32)        0         \n",
      "_________________________________________________________________\n",
      "flatten_1 (Flatten)          (None, 5408)              0         \n",
      "_________________________________________________________________\n",
      "dense_2 (Dense)              (None, 100)               540900    \n",
      "_________________________________________________________________\n",
      "dense_3 (Dense)              (None, 10)                1010      \n",
      "=================================================================\n",
      "Total params: 542,230\n",
      "Trainable params: 542,230\n",
      "Non-trainable params: 0\n",
      "_________________________________________________________________\n"
     ]
    }
   ],
   "source": [
    "model.summary()"
   ]
  },
  {
   "cell_type": "code",
   "execution_count": 16,
   "metadata": {
    "colab": {},
    "colab_type": "code",
    "id": "08CD7OOGP_Lm"
   },
   "outputs": [],
   "source": [
    "scores,histories=list(),list()\n",
    "scores.append(acc)\n",
    "histories.append(history)"
   ]
  },
  {
   "cell_type": "code",
   "execution_count": 19,
   "metadata": {
    "colab": {},
    "colab_type": "code",
    "id": "OpmAI-gVUXzj"
   },
   "outputs": [],
   "source": [
    "import matplotlib\n",
    "import matplotlib.pyplot as plt\n",
    "from matplotlib import pyplot"
   ]
  },
  {
   "cell_type": "code",
   "execution_count": 20,
   "metadata": {
    "colab": {
     "base_uri": "https://localhost:8080/",
     "height": 281
    },
    "colab_type": "code",
    "id": "A707_IVsQG0a",
    "outputId": "766fcef7-03be-445c-d4fd-6001995d7d97"
   },
   "outputs": [
    {
     "data": {
      "image/png": "[encoded data removed]",
      "text/plain": [
       "<Figure size 432x288 with 2 Axes>"
      ]
     },
     "metadata": {
      "needs_background": "light",
      "tags": []
     },
     "output_type": "display_data"
    }
   ],
   "source": [
    "def summarize_diagnostics(histories):\n",
    "  for i in range(len(histories)):\n",
    "    pyplot.subplot(2,1,1)\n",
    "    pyplot.title('CROSS ENTROPY LOSS')\n",
    "    pyplot.plot(histories[i].history['loss'],color='blue',label='train')\n",
    "    pyplot.plot(histories[i].history['val_loss'],color='orange',label='test')\n",
    "    pyplot.subplot(2,1,2)\n",
    "    pyplot.title('CLASSIFICATION ACCURACY')\n",
    "    pyplot.plot(histories[i].history['accuracy'],color='blue',label='train')\n",
    "    pyplot.plot(histories[i].history['val_accuracy'],color='orange',label='test')\n",
    "  pyplot.show()\n",
    "\n",
    "summarize_diagnostics(histories)"
   ]
  },
  {
   "cell_type": "code",
   "execution_count": null,
   "metadata": {
    "colab": {},
    "colab_type": "code",
    "id": "6adq5C3lUKBb"
   },
   "outputs": [],
   "source": []
  }
 ],
 "metadata": {
  "accelerator": "GPU",
  "colab": {
   "collapsed_sections": [],
   "name": "DL_lab_7_E18CSE037.ipynb",
   "provenance": []
  },
  "kernelspec": {
   "display_name": "Python 3",
   "language": "python",
   "name": "python3"
  },
  "language_info": {
   "codemirror_mode": {
    "name": "ipython",
    "version": 3
   },
   "file_extension": ".py",
   "mimetype": "text/x-python",
   "name": "python",
   "nbconvert_exporter": "python",
   "pygments_lexer": "ipython3",
   "version": "3.7.4"
  }
 },
 "nbformat": 4,
 "nbformat_minor": 1
}
