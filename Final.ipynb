{
 "cells": [
  {
   "cell_type": "code",
   "execution_count": 2,
   "metadata": {},
   "outputs": [],
   "source": [
    "import cv2\n",
    "import requests\n",
    "from matplotlib import pyplot as plt\n",
    "import numpy as np\n",
    "from moviepy.editor import *\n",
    "\n",
    "# Webcam Capture\n",
    "# cap = cv2.VideoCapture(\"http://10.12.139.207:8080\") \n",
    "\n",
    "url = \"http://10.12.139.207:8080/shot.jpg\"\n",
    "\n",
    "#video = cv2.VideoWriter('video_output.avi',-1,1,(width,height))\n",
    "#fourcc = cv2.VideoWriter_fourcc(*'DIVX')\n",
    "#out = cv2.VideoWriter('output.avi', fourcc, 20.0, (width,height))\n",
    "\n",
    "clips = []\n",
    "j = 1\n",
    "# print('Frames: ',int(url.get(cv2.CAP_PROP_FRAME_COUNT)))"
   ]
  },
  {
   "cell_type": "code",
   "execution_count": 3,
   "metadata": {},
   "outputs": [
    {
     "name": "stdout",
     "output_type": "stream",
     "text": [
      "Frame: 2\n",
      "Frame: 3\n",
      "Frame: 4\n",
      "Frame: 5\n",
      "Frame: 6\n",
      "Frame: 7\n",
      "Frame: 8\n",
      "Frame: 9\n",
      "Frame: 10\n",
      "Frame: 11\n",
      "Frame: 12\n",
      "Frame: 13\n",
      "Frame: 14\n",
      "Frame: 15\n",
      "Frame: 16\n",
      "Frame: 17\n",
      "Frame: 18\n",
      "Frame: 19\n",
      "Frame: 20\n",
      "Frame: 21\n",
      "Frame: 22\n",
      "Frame: 23\n",
      "Frame: 24\n",
      "Frame: 25\n",
      "Frame: 26\n",
      "Frame: 27\n",
      "Frame: 28\n",
      "Frame: 29\n",
      "Frame: 30\n",
      "Frame: 31\n",
      "Frame: 32\n",
      "Frame: 33\n",
      "Frame: 34\n",
      "Frame: 35\n",
      "Frame: 36\n",
      "Frame: 37\n",
      "Frame: 38\n",
      "Frame: 39\n",
      "Frame: 40\n",
      "Frame: 41\n",
      "Frame: 42\n",
      "Frame: 43\n",
      "Frame: 44\n",
      "Frame: 45\n",
      "Frame: 46\n",
      "Frame: 47\n",
      "Frame: 48\n",
      "Frame: 49\n",
      "Frame: 50\n",
      "Frame: 51\n",
      "Frame: 52\n",
      "Frame: 53\n",
      "Frame: 54\n",
      "Frame: 55\n",
      "Frame: 56\n",
      "Frame: 57\n",
      "Frame: 58\n",
      "Frame: 59\n",
      "Frame: 60\n",
      "Frame: 61\n",
      "Frame: 62\n",
      "Frame: 63\n",
      "Frame: 64\n",
      "Frame: 65\n",
      "Frame: 66\n",
      "Frame: 67\n",
      "Frame: 68\n",
      "Frame: 69\n",
      "Frame: 70\n",
      "Frame: 71\n",
      "Frame: 72\n",
      "Frame: 73\n",
      "Frame: 74\n",
      "Frame: 75\n",
      "Frame: 76\n",
      "Frame: 77\n",
      "Frame: 78\n",
      "Frame: 79\n",
      "Frame: 80\n",
      "Frame: 81\n"
     ]
    }
   ],
   "source": [
    "print(\"Start\")\n",
    "while(True):\n",
    "    img_resp = requests.get(url)\n",
    "    img_arr = np.array(bytearray(img_resp.content), dtype=np.uint8)\n",
    "    frame = cv2.imdecode(img_arr, -1)\n",
    "    frame = cv2.resize(frame,(640,480))\n",
    "    \n",
    "    gray = cv2.cvtColor(frame, cv2.COLOR_BGR2GRAY)\n",
    "    \n",
    "    template = cv2.imread('Screenshot.png', 0)\n",
    "    w, h = template.shape[::-1]\n",
    "\n",
    "    res = cv2.matchTemplate(gray,template,cv2.TM_CCOEFF_NORMED)\n",
    "\n",
    "    threshold = 0.7\n",
    "    loc = np.where( res >= threshold)\n",
    "\n",
    "    for pt in zip(*loc[::-1]):\n",
    "        cv2.rectangle(frame, pt, (pt[0] + w, pt[1] + h), (0,255,255), 2)\n",
    "    \n",
    "    frame = cv2.cvtColor(frame, cv2.COLOR_BGR2RGB)\n",
    "    cv2.imshow('Detection Video',frame)\n",
    "    #video.write(frame)\n",
    "    #clips.append(frame)\n",
    "    clips.append(ImageClip(frame).set_duration(0.1))\n",
    "    j=j+1\n",
    "    # print('Frame:',j)\n",
    "\n",
    "    if(cv2.waitKey(1)==27):\n",
    "         break\n",
    "\n",
    "# cap.release()\n",
    "print(\"Done\")\n",
    "cv2.destroyAllWindows()"
   ]
  },
  {
   "cell_type": "code",
   "execution_count": 4,
   "metadata": {},
   "outputs": [
    {
     "name": "stdout",
     "output_type": "stream",
     "text": [
      "Moviepy - Building video Results_part1.mp4.\n",
      "Moviepy - Writing video Results_part1.mp4\n",
      "\n"
     ]
    },
    {
     "name": "stderr",
     "output_type": "stream",
     "text": [
      "                                                                                                                       \r"
     ]
    },
    {
     "name": "stdout",
     "output_type": "stream",
     "text": [
      "Moviepy - Done !\n",
      "Moviepy - video ready Results_part1.mp4\n",
      "Done\n"
     ]
    }
   ],
   "source": [
    "concat_clip = concatenate_videoclips(clips, method=\"compose\")\n",
    "concat_clip.write_videofile(\"Results_part1.mp4\", fps=30)\n",
    "print(\"Done\")"
   ]
  },
  {
   "cell_type": "code",
   "execution_count": null,
   "metadata": {},
   "outputs": [],
   "source": []
  }
 ],
 "metadata": {
  "kernelspec": {
   "display_name": "Python 3",
   "language": "python",
   "name": "python3"
  },
  "language_info": {
   "codemirror_mode": {
    "name": "ipython",
    "version": 3
   },
   "file_extension": ".py",
   "mimetype": "text/x-python",
   "name": "python",
   "nbconvert_exporter": "python",
   "pygments_lexer": "ipython3",
   "version": "3.7.3"
  }
 },
 "nbformat": 4,
 "nbformat_minor": 2
}
